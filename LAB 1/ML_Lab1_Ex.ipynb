{
  "nbformat": 4,
  "nbformat_minor": 0,
  "metadata": {
    "colab": {
      "name": "Untitled0.ipynb",
      "provenance": []
    },
    "kernelspec": {
      "name": "python3",
      "display_name": "Python 3"
    },
    "language_info": {
      "name": "python"
    }
  },
  "cells": [
    {
      "cell_type": "markdown",
      "metadata": {
        "id": "DiGruDQ-azhL"
      },
      "source": [
        "Que-1)Create a Numpy array of size 4 x 5."
      ]
    },
    {
      "cell_type": "code",
      "metadata": {
        "colab": {
          "base_uri": "https://localhost:8080/"
        },
        "id": "qZJpyGYabDqg",
        "outputId": "238ec734-b79b-4a9f-84be-4fef181fec3f"
      },
      "source": [
        "import numpy as np\n",
        "array1=[1,2,3,4,5]\n",
        "array2=[2,3,4,5,6]\n",
        "array3=[3,4,5,6,7]\n",
        "array4=[4,5,6,7,8]\n",
        "npmatrix1=np.array([array1,array2,array3,array4])\n",
        "print(npmatrix1)\n",
        "print(type(npmatrix1))"
      ],
      "execution_count": null,
      "outputs": [
        {
          "output_type": "stream",
          "name": "stdout",
          "text": [
            "[[1 2 3 4 5]\n",
            " [2 3 4 5 6]\n",
            " [3 4 5 6 7]\n",
            " [4 5 6 7 8]]\n",
            "<class 'numpy.ndarray'>\n"
          ]
        }
      ]
    },
    {
      "cell_type": "markdown",
      "metadata": {
        "id": "T8aXgZnvcQGr"
      },
      "source": [
        "\n",
        "2) Randomly initialize the array.\n"
      ]
    },
    {
      "cell_type": "code",
      "metadata": {
        "colab": {
          "base_uri": "https://localhost:8080/"
        },
        "id": "qVHcf9_hcZIF",
        "outputId": "9467d155-1ec7-4659-8bb0-bba525c93849"
      },
      "source": [
        "arr1=np.random.rand(4,4)\n",
        "print(arr1)"
      ],
      "execution_count": null,
      "outputs": [
        {
          "output_type": "stream",
          "name": "stdout",
          "text": [
            "[[0.37529036 0.89525733 0.78230509 0.06633995]\n",
            " [0.39883716 0.81428508 0.96811644 0.0382776 ]\n",
            " [0.18094077 0.09665101 0.09561043 0.7152129 ]\n",
            " [0.2619874  0.99065851 0.43487077 0.96997696]]\n"
          ]
        }
      ]
    },
    {
      "cell_type": "markdown",
      "metadata": {
        "id": "msz4DjkidVpl"
      },
      "source": [
        "3) Get the Determinant and Transpose of the Matrix that you created."
      ]
    },
    {
      "cell_type": "code",
      "metadata": {
        "colab": {
          "base_uri": "https://localhost:8080/"
        },
        "id": "KixTLYPddaJ8",
        "outputId": "0530f328-d108-4284-ab14-42e3ad5156d1"
      },
      "source": [
        "arr1=np.random.rand(4,4)\n",
        "det = np.linalg.det(arr1)\n",
        "print(\"Determinant is:-\",int(det))\n",
        "print(\"Transpose is:-\",arr1.T)"
      ],
      "execution_count": null,
      "outputs": [
        {
          "output_type": "stream",
          "name": "stdout",
          "text": [
            "Determinant is:- 0\n",
            "Transpose is:- [[0.0549994  0.26094241 0.84261406 0.28068154]\n",
            " [0.35033226 0.08067163 0.04833034 0.9691399 ]\n",
            " [0.22277324 0.19919811 0.00475482 0.87244217]\n",
            " [0.65791817 0.37854977 0.25634002 0.34809103]]\n"
          ]
        }
      ]
    },
    {
      "cell_type": "markdown",
      "metadata": {
        "id": "MsgCfnsRfqaR"
      },
      "source": [
        "4) Create another matrix of size 5 x 4 and randomly initialize it."
      ]
    },
    {
      "cell_type": "code",
      "metadata": {
        "colab": {
          "base_uri": "https://localhost:8080/"
        },
        "id": "OqrsGpwLfvS3",
        "outputId": "5708475a-232d-4cfb-a94a-7614e55ae383"
      },
      "source": [
        "arr1=np.random.rand(5,4)\n",
        "print(arr1)"
      ],
      "execution_count": null,
      "outputs": [
        {
          "output_type": "stream",
          "name": "stdout",
          "text": [
            "[[0.15794626 0.01881981 0.83664982 0.05342684]\n",
            " [0.84636525 0.78138364 0.96305075 0.2332578 ]\n",
            " [0.92528734 0.52949549 0.77470919 0.1847578 ]\n",
            " [0.35523097 0.10531743 0.18180933 0.98869642]\n",
            " [0.28406154 0.65286593 0.36085435 0.62291959]]\n"
          ]
        }
      ]
    },
    {
      "cell_type": "markdown",
      "metadata": {
        "id": "nG4MsVVQf5qw"
      },
      "source": [
        "5) Perform Matrix multiplication."
      ]
    },
    {
      "cell_type": "code",
      "metadata": {
        "colab": {
          "base_uri": "https://localhost:8080/"
        },
        "id": "jZRnedecf-wI",
        "outputId": "4d3afd51-e162-43f0-f86d-d1052a86c721"
      },
      "source": [
        "array1=[[1,2],[1,2]]\n",
        "array2=[[2,3],[2,3]]\n",
        "np.matmul(array1, array2)"
      ],
      "execution_count": null,
      "outputs": [
        {
          "output_type": "execute_result",
          "data": {
            "text/plain": [
              "array([[6, 9],\n",
              "       [6, 9]])"
            ]
          },
          "metadata": {},
          "execution_count": 21
        }
      ]
    },
    {
      "cell_type": "markdown",
      "metadata": {
        "id": "JAnB1y3whSX1"
      },
      "source": [
        "6) Perform element wise matrix multiplication."
      ]
    },
    {
      "cell_type": "code",
      "metadata": {
        "colab": {
          "base_uri": "https://localhost:8080/"
        },
        "id": "8jwbt95xhWYM",
        "outputId": "5fa5f52d-7583-48ef-cf5a-2c751b891bb5"
      },
      "source": [
        "array1=[1,2,3,4,5]\n",
        "array2=[2,3,4,5,6]\n",
        "np.multiply(array1,array2)"
      ],
      "execution_count": null,
      "outputs": [
        {
          "output_type": "execute_result",
          "data": {
            "text/plain": [
              "array([ 2,  6, 12, 20, 30])"
            ]
          },
          "metadata": {},
          "execution_count": 22
        }
      ]
    },
    {
      "cell_type": "markdown",
      "metadata": {
        "id": "-nA4mDtOh78m"
      },
      "source": [
        "7) Find mean, median of the numpy array created."
      ]
    },
    {
      "cell_type": "code",
      "metadata": {
        "colab": {
          "base_uri": "https://localhost:8080/"
        },
        "id": "IfOt3UDPiA-R",
        "outputId": "edc29b8d-ac02-4cf5-bdf4-1ecb13f21c96"
      },
      "source": [
        "print(\"Mean of whole matrix:-\")\n",
        "print(np.mean(npmatrix1))\n",
        "print(\"Mean by column:-\",np.mean(npmatrix1,axis=0))\n",
        "print(\"Mean by column:-\",np.mean(npmatrix1,axis=0))\n",
        "print(\"Median is:-\",np.median(npmatrix1))"
      ],
      "execution_count": null,
      "outputs": [
        {
          "output_type": "stream",
          "name": "stdout",
          "text": [
            "Mean of whole matrix:-\n",
            "4.5\n",
            "Mean by column:- [2.5 3.5 4.5 5.5 6.5]\n",
            "Mean by column:- [2.5 3.5 4.5 5.5 6.5]\n",
            "Median is:- 4.5\n"
          ]
        }
      ]
    },
    {
      "cell_type": "markdown",
      "metadata": {
        "id": "GEXravz4jQ2w"
      },
      "source": [
        "8) Obtain each row in the second column of the first array."
      ]
    },
    {
      "cell_type": "code",
      "metadata": {
        "colab": {
          "base_uri": "https://localhost:8080/"
        },
        "id": "VJSQYqPGjT37",
        "outputId": "cad828b8-cccd-4aa3-dae9-67bd77fc31ee"
      },
      "source": [
        "print(npmatrix1[:,2])"
      ],
      "execution_count": null,
      "outputs": [
        {
          "output_type": "stream",
          "name": "stdout",
          "text": [
            "[3 4 5 6]\n"
          ]
        }
      ]
    },
    {
      "cell_type": "markdown",
      "metadata": {
        "id": "XdFAipcVkzgi"
      },
      "source": [
        "9) Convert Numeric entries(columns) of Iris.csv to Mean Centered Version"
      ]
    },
    {
      "cell_type": "code",
      "metadata": {
        "id": "4YUzU6kFk10a",
        "colab": {
          "base_uri": "https://localhost:8080/"
        },
        "outputId": "24b8e8b3-543f-45c9-c13e-1008f784408a"
      },
      "source": [
        "from google.colab import drive\n",
        "drive.mount('/content/drive')\n",
        "import pandas as pd\n",
        "data=pd.read_csv('drive/MyDrive/Iris.csv')\n",
        "datam = data.iloc[:,:]\n",
        "datam.mean()"
      ],
      "execution_count": 1,
      "outputs": [
        {
          "output_type": "stream",
          "name": "stdout",
          "text": [
            "Mounted at /content/drive\n"
          ]
        },
        {
          "output_type": "execute_result",
          "data": {
            "text/plain": [
              "Id               75.500000\n",
              "SepalLengthCm     5.843333\n",
              "SepalWidthCm      3.054000\n",
              "PetalLengthCm     3.758667\n",
              "PetalWidthCm      1.198667\n",
              "dtype: float64"
            ]
          },
          "metadata": {},
          "execution_count": 1
        }
      ]
    },
    {
      "cell_type": "markdown",
      "source": [
        "10) Study about numpy array attributes and implement it on the first matrix."
      ],
      "metadata": {
        "id": "50xxtkM-HBZW"
      }
    },
    {
      "cell_type": "code",
      "source": [
        "import numpy as np\n",
        "\n",
        "arr = np.array([[1,2,3],[4,5,6]])\n",
        "arr1 = arr.shape\n",
        "arr2 = arr.reshape(3,2)\n",
        "print(\"arr1:\\n\",arr1)\n",
        "print(\"arr2:\\n\",arr2)"
      ],
      "metadata": {
        "colab": {
          "base_uri": "https://localhost:8080/"
        },
        "id": "gTyVJQ_hHE5o",
        "outputId": "20bc1faa-4262-448f-89de-0e0d2df21e8d"
      },
      "execution_count": 3,
      "outputs": [
        {
          "output_type": "stream",
          "name": "stdout",
          "text": [
            "arr1:\n",
            " (2, 3)\n",
            "arr2:\n",
            " [[1 2]\n",
            " [3 4]\n",
            " [5 6]]\n"
          ]
        }
      ]
    }
  ]
}